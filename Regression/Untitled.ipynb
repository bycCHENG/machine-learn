{
 "cells": [
  {
   "cell_type": "code",
   "execution_count": 2,
   "id": "4f22fac2",
   "metadata": {},
   "outputs": [
    {
     "data": {
      "image/png": "[encoded data removed]",
      "text/plain": [
       "<Figure size 432x288 with 1 Axes>"
      ]
     },
     "metadata": {
      "needs_background": "light"
     },
     "output_type": "display_data"
    }
   ],
   "source": [
    "# -*- coding:utf-8 -*-\n",
    "import matplotlib.pyplot as plt\n",
    "import numpy as np\n",
    " \n",
    "def loadDataSet(fileName):\n",
    "    \"\"\"\n",
    "    函数说明:加载数据\n",
    "    Parameters:\n",
    "        fileName - 文件名\n",
    "    Returns:\n",
    "        xArr - x数据集\n",
    "        yArr - y数据集\n",
    "    Website:\n",
    "        https://www.cuijiahua.com/\n",
    "    Modify:\n",
    "        2017-11-12\n",
    "    \"\"\"\n",
    " \n",
    "    numFeat = len(open(fileName).readline().split('\\t')) - 1\n",
    "    xArr = []; yArr = []\n",
    "    fr = open(fileName)\n",
    "    for line in fr.readlines():\n",
    "        lineArr =[]\n",
    "        curLine = line.strip().split('\\t')\n",
    "        for i in range(numFeat):\n",
    "            lineArr.append(float(curLine[i]))\n",
    "        xArr.append(lineArr)\n",
    "        yArr.append(float(curLine[-1]))\n",
    "    return xArr, yArr\n",
    " \n",
    "def plotDataSet():\n",
    "    \"\"\"\n",
    "    函数说明:绘制数据集\n",
    "    Parameters:\n",
    "        无\n",
    "    Returns:\n",
    "        无\n",
    "    Website:\n",
    "        https://www.cuijiahua.com/\n",
    "    Modify:\n",
    "        2017-11-12\n",
    "    \"\"\"\n",
    "    xArr, yArr = loadDataSet('ex0.txt')                                    #加载数据集\n",
    "    n = len(xArr)                                                        #数据个数\n",
    "    xcord = []; ycord = []                                                #样本点\n",
    "    for i in range(n):                                                   \n",
    "        xcord.append(xArr[i][1]); ycord.append(yArr[i])                    #样本点\n",
    "    fig = plt.figure()\n",
    "    ax = fig.add_subplot(111)                                            #添加subplot\n",
    "    ax.scatter(xcord, ycord, s = 20, c = 'blue',alpha = .5)                #绘制样本点\n",
    "    plt.title('DataSet')                                                #绘制title\n",
    "    plt.xlabel('X')\n",
    "    plt.show()\n",
    " \n",
    "if __name__ == '__main__':\n",
    "    plotDataSet()"
   ]
  },
  {
   "cell_type": "code",
   "execution_count": 6,
   "id": "8129666f",
   "metadata": {},
   "outputs": [
    {
     "name": "stdout",
     "output_type": "stream",
     "text": [
      "<class 'list'>\n",
      "[1.0, 0.42781]\n"
     ]
    }
   ],
   "source": [
    "import matplotlib.pyplot as plt\n",
    "import numpy as np\n",
    " \n",
    "def loadDataSet(fileName):\n",
    "    numFeat = len(open(fileName).readline().split('\\t')) - 1\n",
    "    xArr = []; yArr = []\n",
    "    fr = open(fileName)\n",
    "    for line in fr.readlines():\n",
    "        lineArr =[]\n",
    "        curLine = line.strip().split('\\t')\n",
    "        for i in range(numFeat):\n",
    "            lineArr.append(float(curLine[i]))\n",
    "        xArr.append(lineArr)\n",
    "        yArr.append(float(curLine[-1]))\n",
    "    return xArr, yArr\n",
    " \n",
    "if __name__ == '__main__':\n",
    "    xArr, yArr = loadDataSet('ex0.txt')\n",
    "print(type(xArr))\n",
    "print(xArr[1])"
   ]
  },
  {
   "cell_type": "code",
   "execution_count": 9,
   "id": "ad06a753",
   "metadata": {},
   "outputs": [],
   "source": [
    "# -*- coding:utf-8 -*-\n",
    "import matplotlib.pyplot as plt\n",
    "import numpy as np\n",
    "import regression\n",
    "def loadDataSet(fileName):\n",
    "    \"\"\"\n",
    "    函数说明:加载数据\n",
    "    Parameters:\n",
    "        fileName - 文件名\n",
    "    Returns:\n",
    "        xArr - x数据集\n",
    "        yArr - y数据集\n",
    "    Website:\n",
    "        https://www.cuijiahua.com/\n",
    "    Modify:\n",
    "        2017-11-12\n",
    "    \"\"\"\n",
    " \n",
    "    numFeat = len(open(fileName).readline().split('\\t')) - 1\n",
    "    xArr = []; yArr = []\n",
    "    fr = open(fileName)\n",
    "    for line in fr.readlines():\n",
    "        lineArr =[]\n",
    "        curLine = line.strip().split('\\t')\n",
    "        for i in range(numFeat):\n",
    "            lineArr.append(float(curLine[i]))\n",
    "        xArr.append(lineArr)\n",
    "        yArr.append(float(curLine[-1]))\n",
    "    return xArr, yArr\n",
    " \n",
    "def plotDataSet():\n",
    "    \"\"\"\n",
    "    函数说明:绘制数据集\n",
    "    Parameters:\n",
    "        无\n",
    "    Returns:\n",
    "        无\n",
    "    Website:\n",
    "        https://www.cuijiahua.com/\n",
    "    Modify:\n",
    "        2017-11-12\n",
    "    \"\"\"\n",
    "    xArr, yArr = loadDataSet('ex0.txt')                                    #加载数据集\n",
    "    n = len(xArr)                                                        #数据个数\n",
    "    xcord = []; ycord = []                                                #样本点\n",
    "    for i in range(n):                                                   \n",
    "        xcord.append(xArr[i][1]); ycord.append(yArr[i])                    #样本点\n",
    "    fig = plt.figure()\n",
    "    ax = fig.add_subplot(111)                                            #添加subplot\n",
    "    ax.scatter(xcord, ycord, s = 20, c = 'blue',alpha = .5)                #绘制样本点\n",
    "    plt.title('DataSet')                                                #绘制title\n",
    "    plt.xlabel('X')\n",
    "    plt.show()\n",
    " \n",
    "def standRegres(xArr,yArr):\n",
    "    \"\"\"\n",
    "    函数说明:计算回归系数w\n",
    "    Parameters:\n",
    "        xArr - x数据集\n",
    "        yArr - y数据集\n",
    "    Returns:\n",
    "        ws - 回归系数\n",
    "    Website:\n",
    "        https://www.cuijiahua.com/\n",
    "    Modify:\n",
    "        2017-11-12\n",
    "    \"\"\"\n",
    "    xMat = np.mat(xArr); yMat = np.mat(yArr).T\n",
    "    xTx = xMat.T * xMat                            #根据文中推导的公示计算回归系数\n",
    "    if np.linalg.det(xTx) == 0.0:\n",
    "        print(\"矩阵为奇异矩阵,不能求逆\")\n",
    "        return\n",
    "    ws = xTx.I * (xMat.T*yMat)\n",
    "    return ws\n",
    "\n",
    "if __name__ == '__main__':\n",
    "    xArr, yArr = loadDataSet('ex0.txt')\n",
    "    ws = standRegres(xArr, yArr)"
   ]
  },
  {
   "cell_type": "code",
   "execution_count": 10,
   "id": "02c3d490",
   "metadata": {},
   "outputs": [
    {
     "data": {
      "text/plain": [
       "matrix([[3.00774324],\n",
       "        [1.69532264]])"
      ]
     },
     "execution_count": 10,
     "metadata": {},
     "output_type": "execute_result"
    }
   ],
   "source": [
    "ws"
   ]
  },
  {
   "cell_type": "code",
   "execution_count": 21,
   "id": "462ab2f0",
   "metadata": {},
   "outputs": [
    {
     "data": {
      "image/png": "[encoded data removed]",
      "text/plain": [
       "<Figure size 432x288 with 1 Axes>"
      ]
     },
     "metadata": {
      "needs_background": "light"
     },
     "output_type": "display_data"
    }
   ],
   "source": [
    "xMat=np.mat(xArr)\n",
    "yMat=np.mat(yArr)\n",
    "yHat=xMat*ws\n",
    "import matplotlib.pyplot as plt\n",
    "fig = plt.figure()\n",
    "ax = fig.add_subplot(111)\n",
    "ax.scatter(xMat[:,1].flatten().A[0], yMat.T[:,0].flatten().A[0])\n",
    "xCopy = xMat.copy()\n",
    "xCopy.sort(0)\n",
    "yHat=xCopy*ws\n",
    "ax.plot(xCopy[:,1],yHat)\n",
    "plt.show()"
   ]
  },
  {
   "cell_type": "code",
   "execution_count": 24,
   "id": "3f076290",
   "metadata": {},
   "outputs": [
    {
     "data": {
      "text/plain": [
       "array([[1.        , 0.98647356],\n",
       "       [0.98647356, 1.        ]])"
      ]
     },
     "execution_count": 24,
     "metadata": {},
     "output_type": "execute_result"
    }
   ],
   "source": [
    "xMat=np.mat(xArr)\n",
    "yMat=np.mat(yArr)\n",
    "yHat=xMat*ws\n",
    "np.corrcoef(yHat.T, yMat)"
   ]
  },
  {
   "cell_type": "code",
   "execution_count": 28,
   "id": "2756cf0f",
   "metadata": {},
   "outputs": [],
   "source": [
    "import matplotlib.pyplot as plt\n",
    "import numpy as np\n",
    "import regression\n",
    "def loadDataSet(fileName):\n",
    "    \"\"\"\n",
    "    函数说明:加载数据\n",
    "    Parameters:\n",
    "        fileName - 文件名\n",
    "    Returns:\n",
    "        xArr - x数据集\n",
    "        yArr - y数据集\n",
    "    Website:\n",
    "        https://www.cuijiahua.com/\n",
    "    Modify:\n",
    "        2017-11-12\n",
    "    \"\"\"\n",
    " \n",
    "    numFeat = len(open(fileName).readline().split('\\t')) - 1\n",
    "    xArr = []; yArr = []\n",
    "    fr = open(fileName)\n",
    "    for line in fr.readlines():\n",
    "        lineArr =[]\n",
    "        curLine = line.strip().split('\\t')\n",
    "        for i in range(numFeat):\n",
    "            lineArr.append(float(curLine[i]))\n",
    "        xArr.append(lineArr)\n",
    "        yArr.append(float(curLine[-1]))\n",
    "    return xArr, yArr\n",
    " \n",
    "def lwlr(testPoint, xArr, yArr, k = 1.0):\n",
    "    \"\"\"\n",
    "    函数说明:使用局部加权线性回归计算回归系数w\n",
    "    Parameters:\n",
    "        testPoint - 测试样本点\n",
    "        xArr - x数据集\n",
    "        yArr - y数据集\n",
    "        k - 高斯核的k,自定义参数\n",
    "    Returns:\n",
    "        ws - 回归系数\n",
    "    Website:https://www.cuijiahua.com/\n",
    "    Modify:\n",
    "        2017-11-15\n",
    "    \"\"\"\n",
    "    xMat = np.mat(xArr); yMat = np.mat(yArr).T\n",
    "    m = np.shape(xMat)[0]  #total rows\n",
    "    weights = np.mat(np.eye((m)))   #创建权重对角矩阵\n",
    "    for j in range(m):               #遍历数据集计算每个样本的权重\n",
    "        diffMat = testPoint - xMat[j, :]                                 \n",
    "        weights[j, j] = np.exp(diffMat * diffMat.T/(-2.0 * k**2))\n",
    "    xTx = xMat.T * (weights * xMat)                                        \n",
    "    if np.linalg.det(xTx) == 0.0:\n",
    "        print(\"矩阵为奇异矩阵,不能求逆\")\n",
    "        return\n",
    "    ws = xTx.I * (xMat.T * (weights * yMat))                            #计算回归系数\n",
    "    return testPoint * ws\n",
    "def lwlrTest(testArr, xArr, yArr, k=1.0):  \n",
    "    \"\"\"\n",
    "    函数说明:局部加权线性回归测试\n",
    "    Parameters:\n",
    "        testArr - 测试数据集\n",
    "        xArr - x数据集\n",
    "        yArr - y数据集\n",
    "        k - 高斯核的k,自定义参数\n",
    "    Returns:\n",
    "        ws - 回归系数\n",
    "    Website:\n",
    "https://www.cuijiahua.com/\n",
    "    Modify:\n",
    "        2017-11-15\n",
    "    \"\"\"\n",
    "    m = np.shape(testArr)[0]                                            #计算测试数据集大小\n",
    "    yHat = np.zeros(m)    \n",
    "    for i in range(m):                                                    #对每个样本点进行预测\n",
    "        yHat[i] = lwlr(testArr[i],xArr,yArr,k)\n",
    "    return yHat\n",
    "if __name__ == '__main__':\n",
    "    xArr, yArr = loadDataSet('ex0.txt')\n",
    "    ws = standRegres(xArr, yArr)\n",
    "    lwlr(xArr[0],xArr,yArr,1)"
   ]
  },
  {
   "cell_type": "code",
   "execution_count": 30,
   "id": "d39fcea7",
   "metadata": {},
   "outputs": [],
   "source": [
    "xMat = np.mat(xArr); yMat = np.mat(yArr).T\n",
    "m = np.shape(xMat)[0]\n",
    "weights = np.mat(np.eye((m)))   "
   ]
  },
  {
   "cell_type": "code",
   "execution_count": 32,
   "id": "5db64064",
   "metadata": {},
   "outputs": [
    {
     "data": {
      "text/plain": [
       "matrix([[1., 0., 0., ..., 0., 0., 0.],\n",
       "        [0., 1., 0., ..., 0., 0., 0.],\n",
       "        [0., 0., 1., ..., 0., 0., 0.],\n",
       "        ...,\n",
       "        [0., 0., 0., ..., 1., 0., 0.],\n",
       "        [0., 0., 0., ..., 0., 1., 0.],\n",
       "        [0., 0., 0., ..., 0., 0., 1.]])"
      ]
     },
     "execution_count": 32,
     "metadata": {},
     "output_type": "execute_result"
    }
   ],
   "source": [
    "weights"
   ]
  },
  {
   "cell_type": "code",
   "execution_count": 40,
   "id": "e5087d3e",
   "metadata": {},
   "outputs": [
    {
     "data": {
      "image/png": "[encoded data removed]",
      "text/plain": [
       "<Figure size 432x288 with 1 Axes>"
      ]
     },
     "metadata": {
      "needs_background": "light"
     },
     "output_type": "display_data"
    }
   ],
   "source": [
    "yHat = lwlrTest(xArr,xArr,yArr,1)\n",
    "xMat = np.mat(xArr)\n",
    "srtInd = xMat[:,1].argsort(0)\n",
    "fig = plt.figure()\n",
    "ax = fig.add_subplot(111)\n",
    "ax.plot(xSort[:,1],yHat[srtInd])\n",
    "ax.scatter(xMat[:,1].flatten().A[0], np.mat(yArr).T[:,0].flatten().A[0],s=2,c='red')\n",
    "plt.show()"
   ]
  },
  {
   "cell_type": "code",
   "execution_count": 41,
   "id": "e63acc85",
   "metadata": {},
   "outputs": [
    {
     "data": {
      "image/png": "[encoded data removed]",
      "text/plain": [
       "<Figure size 432x288 with 1 Axes>"
      ]
     },
     "metadata": {
      "needs_background": "light"
     },
     "output_type": "display_data"
    }
   ],
   "source": [
    "yHat = lwlrTest(xArr,xArr,yArr,0.01)\n",
    "xMat = np.mat(xArr)\n",
    "srtInd = xMat[:,1].argsort(0)\n",
    "fig = plt.figure()\n",
    "ax = fig.add_subplot(111)\n",
    "ax.plot(xSort[:,1],yHat[srtInd])\n",
    "ax.scatter(xMat[:,1].flatten().A[0], np.mat(yArr).T[:,0].flatten().A[0],s=2,c='red')\n",
    "plt.show()"
   ]
  },
  {
   "cell_type": "code",
   "execution_count": 42,
   "id": "6c4e810f",
   "metadata": {
    "scrolled": true
   },
   "outputs": [
    {
     "name": "stdout",
     "output_type": "stream",
     "text": [
      "训练集与测试集相同:局部加权线性回归,核k的大小对预测的影响:\n",
      "k=0.1时,误差大小为: 56.78868743050092\n",
      "k=1  时,误差大小为: 429.89056187038\n",
      "k=10 时,误差大小为: 549.1181708827924\n",
      "\n",
      "训练集与测试集不同:局部加权线性回归,核k的大小是越小越好吗？更换数据集,测试结果如下:\n",
      "k=0.1时,误差大小为: 57913.51550155911\n",
      "k=1  时,误差大小为: 573.5261441895982\n",
      "k=10 时,误差大小为: 517.5711905381903\n",
      "\n",
      "训练集与测试集不同:简单的线性归回与k=1时的局部加权线性回归对比:\n",
      "k=1时,误差大小为: 573.5261441895982\n",
      "简单的线性回归误差大小: 518.6363153245542\n"
     ]
    }
   ],
   "source": [
    "# -*- coding:utf-8 -*-\n",
    "from matplotlib.font_manager import FontProperties\n",
    "import matplotlib.pyplot as plt\n",
    "import numpy as np\n",
    "def loadDataSet(fileName):\n",
    "    \"\"\"\n",
    "    函数说明:加载数据\n",
    "    Parameters:\n",
    "        fileName - 文件名\n",
    "    Returns:\n",
    "        xArr - x数据集\n",
    "        yArr - y数据集\n",
    "    Website:\n",
    "https://www.cuijiahua.com/\n",
    "    Modify:\n",
    "        2017-11-19\n",
    "    \"\"\"\n",
    "    numFeat = len(open(fileName).readline().split('\\t')) - 1\n",
    "    xArr = []; yArr = []\n",
    "    fr = open(fileName)\n",
    "    for line in fr.readlines():\n",
    "        lineArr =[]\n",
    "        curLine = line.strip().split('\\t')\n",
    "        for i in range(numFeat):\n",
    "            lineArr.append(float(curLine[i]))\n",
    "        xArr.append(lineArr)\n",
    "        yArr.append(float(curLine[-1]))\n",
    "    return xArr, yArr\n",
    "def lwlr(testPoint, xArr, yArr, k = 1.0):\n",
    "    \"\"\"\n",
    "    函数说明:使用局部加权线性回归计算回归系数w\n",
    "    Parameters:\n",
    "        testPoint - 测试样本点\n",
    "        xArr - x数据集\n",
    "        yArr - y数据集\n",
    "        k - 高斯核的k,自定义参数\n",
    "    Returns:\n",
    "        ws - 回归系数\n",
    "    Website:\n",
    "https://www.cuijiahua.com/\n",
    "    Modify:\n",
    "        2017-11-19\n",
    "    \"\"\"\n",
    "    xMat = np.mat(xArr); yMat = np.mat(yArr).T\n",
    "    m = np.shape(xMat)[0]\n",
    "    weights = np.mat(np.eye((m)))                                        #创建权重对角矩阵\n",
    "    for j in range(m):                                                  #遍历数据集计算每个样本的权重\n",
    "        diffMat = testPoint - xMat[j, :]                                 \n",
    "        weights[j, j] = np.exp(diffMat * diffMat.T/(-2.0 * k**2))\n",
    "    xTx = xMat.T * (weights * xMat)                                        \n",
    "    if np.linalg.det(xTx) == 0.0:\n",
    "        print(\"矩阵为奇异矩阵,不能求逆\")\n",
    "        return\n",
    "    ws = xTx.I * (xMat.T * (weights * yMat))                            #计算回归系数\n",
    "    return testPoint * ws\n",
    "def lwlrTest(testArr, xArr, yArr, k=1.0):  \n",
    "    \"\"\"\n",
    "    函数说明:局部加权线性回归测试\n",
    "    Parameters:\n",
    "        testArr - 测试数据集,测试集\n",
    "        xArr - x数据集,训练集\n",
    "        yArr - y数据集,训练集\n",
    "        k - 高斯核的k,自定义参数\n",
    "    Returns:\n",
    "        ws - 回归系数\n",
    "    Website:\n",
    "https://www.cuijiahua.com/\n",
    "    Modify:\n",
    "        2017-11-19\n",
    "    \"\"\"\n",
    "    m = np.shape(testArr)[0]                                            #计算测试数据集大小\n",
    "    yHat = np.zeros(m)    \n",
    "    for i in range(m):                                                    #对每个样本点进行预测\n",
    "        yHat[i] = lwlr(testArr[i],xArr,yArr,k)\n",
    "    return yHat\n",
    "def standRegres(xArr,yArr):\n",
    "    \"\"\"\n",
    "    函数说明:计算回归系数w\n",
    "    Parameters:\n",
    "        xArr - x数据集\n",
    "        yArr - y数据集\n",
    "    Returns:\n",
    "        ws - 回归系数\n",
    "    Website:\n",
    "https://www.cuijiahua.com/\n",
    "    Modify:\n",
    "        2017-11-19\n",
    "    \"\"\"\n",
    "    xMat = np.mat(xArr); yMat = np.mat(yArr).T\n",
    "    xTx = xMat.T * xMat                            #根据文中推导的公示计算回归系数\n",
    "    if np.linalg.det(xTx) == 0.0:\n",
    "        print(\"矩阵为奇异矩阵,不能求逆\")\n",
    "        return\n",
    "    ws = xTx.I * (xMat.T*yMat)\n",
    "    return ws\n",
    "def rssError(yArr, yHatArr):\n",
    "    \"\"\"\n",
    "    误差大小评价函数\n",
    "    Parameters:\n",
    "        yArr - 真实数据\n",
    "        yHatArr - 预测数据\n",
    "    Returns:\n",
    "        误差大小\n",
    "    \"\"\"\n",
    "    return ((yArr - yHatArr) **2).sum()\n",
    "if __name__ == '__main__':\n",
    "    abX, abY = loadDataSet('abalone.txt')\n",
    "    print('训练集与测试集相同:局部加权线性回归,核k的大小对预测的影响:')\n",
    "    yHat01 = lwlrTest(abX[0:99], abX[0:99], abY[0:99], 0.1)\n",
    "    yHat1 = lwlrTest(abX[0:99], abX[0:99], abY[0:99], 1)\n",
    "    yHat10 = lwlrTest(abX[0:99], abX[0:99], abY[0:99], 10)\n",
    "    print('k=0.1时,误差大小为:',rssError(abY[0:99], yHat01.T))\n",
    "    print('k=1  时,误差大小为:',rssError(abY[0:99], yHat1.T))\n",
    "    print('k=10 时,误差大小为:',rssError(abY[0:99], yHat10.T))\n",
    "    print('')\n",
    "    print('训练集与测试集不同:局部加权线性回归,核k的大小是越小越好吗？更换数据集,测试结果如下:')\n",
    "    yHat01 = lwlrTest(abX[100:199], abX[0:99], abY[0:99], 0.1)\n",
    "    yHat1 = lwlrTest(abX[100:199], abX[0:99], abY[0:99], 1)\n",
    "    yHat10 = lwlrTest(abX[100:199], abX[0:99], abY[0:99], 10)\n",
    "    print('k=0.1时,误差大小为:',rssError(abY[100:199], yHat01.T))\n",
    "    print('k=1  时,误差大小为:',rssError(abY[100:199], yHat1.T))\n",
    "    print('k=10 时,误差大小为:',rssError(abY[100:199], yHat10.T))\n",
    "    print('')\n",
    "    print('训练集与测试集不同:简单的线性归回与k=1时的局部加权线性回归对比:')\n",
    "    print('k=1时,误差大小为:', rssError(abY[100:199], yHat1.T))\n",
    "    ws = standRegres(abX[0:99], abY[0:99])\n",
    "    yHat = np.mat(abX[100:199]) * ws\n",
    "    print('简单的线性回归误差大小:', rssError(abY[100:199], yHat.T.A))"
   ]
  },
  {
   "cell_type": "code",
   "execution_count": null,
   "id": "8ad2670a",
   "metadata": {},
   "outputs": [],
   "source": []
  }
 ],
 "metadata": {
  "kernelspec": {
   "display_name": "Python 3",
   "language": "python",
   "name": "python3"
  },
  "language_info": {
   "codemirror_mode": {
    "name": "ipython",
    "version": 3
   },
   "file_extension": ".py",
   "mimetype": "text/x-python",
   "name": "python",
   "nbconvert_exporter": "python",
   "pygments_lexer": "ipython3",
   "version": "3.8.8"
  }
 },
 "nbformat": 4,
 "nbformat_minor": 5
}
